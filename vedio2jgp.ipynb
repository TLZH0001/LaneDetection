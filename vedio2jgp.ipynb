{
 "cells": [
  {
   "cell_type": "code",
   "execution_count": 7,
   "metadata": {},
   "outputs": [],
   "source": [
    "import cv2"
   ]
  },
  {
   "cell_type": "code",
   "execution_count": null,
   "metadata": {},
   "outputs": [],
   "source": [
    "cap = cv2.VideoCapture(\"/home/roar/Desktop/ROARLaneDetection/training_1000.MOV\")\n",
    "cap.isOpened()"
   ]
  },
  {
   "cell_type": "code",
   "execution_count": null,
   "metadata": {},
   "outputs": [],
   "source": [
    "success,image = cap.read()\n",
    "count = 0\n",
    "while success:\n",
    "  cv2.imwrite(\"/home/roar/Desktop/ROARLaneDetection/extracted/frame%d.jpg\" % count, image)     # save frame as JPEG file      \n",
    "  success,image = cap.read()\n",
    "  print('Read a new frame: ', success)\n",
    "  count += 1"
   ]
  },
  {
   "cell_type": "code",
   "execution_count": 6,
   "metadata": {},
   "outputs": [],
   "source": [
    "for i in range(0,20000, 500):\n",
    "    img = cv2.imread(f\"/home/roar/Desktop/ROARLaneDetection/extracted/frame{i}.jpg\")\n",
    "    img = cv2.resize(img, [1280, 720])\n",
    "    k = int(i/500)\n",
    "    cv2.imwrite(\"/home/roar/Desktop/ROARLaneDetection/LaneATT/datasets/tusimple-test/clips/0530/1492626047222176976_0/%d.jpg\" % k,img)"
   ]
  },
  {
   "cell_type": "code",
   "execution_count": 20,
   "metadata": {},
   "outputs": [
    {
     "name": "stdout",
     "output_type": "stream",
     "text": [
      "255 0 141.31730500900207 57.51562360918046\n",
      "4.4736843 0.0 2.1520226 1.5974946\n",
      "256.05264 95.0 172.47282 57.50981\n"
     ]
    }
   ],
   "source": [
    "import numpy as np\n",
    "import cv2\n",
    "img = cv2.imread(f\"/home/roar/Desktop/ROARLaneDetection/extracted/frame1.jpg\")\n",
    "print(np.max(img), np.min(img), np.mean(img), np.std(img))\n",
    "\n",
    "std = np.std(img)\n",
    "\n",
    "img = np.array((img - int(np.mean(img)))/int(np.std(img)), dtype=np.float32)\n",
    "\n",
    "print(np.max(img), np.min(img), np.mean(img), np.std(img))\n",
    "\n",
    "\n",
    "img = np.array(img * int(std/np.std(img)) + 95)\n",
    "\n",
    "print(np.max(img), np.min(img), np.mean(img), np.std(img))\n",
    "\n",
    "\n",
    "\n",
    "\n",
    "\n"
   ]
  },
  {
   "cell_type": "code",
   "execution_count": 12,
   "metadata": {},
   "outputs": [
    {
     "name": "stdout",
     "output_type": "stream",
     "text": [
      "255 0 96.24078739872685 60.899445322819716\n"
     ]
    }
   ],
   "source": [
    "img2 = cv2.imread(\"/home/roar/Desktop/ROARLaneDetection/LaneATT/datasets-2 (copy)/tusimple-test/clips/0530/1492626127172745520_0/10.jpg\")\n",
    "print(np.max(img2), np.min(img2), np.mean(img2), np.std(img2))"
   ]
  },
  {
   "cell_type": "code",
   "execution_count": 13,
   "metadata": {},
   "outputs": [
    {
     "name": "stdout",
     "output_type": "stream",
     "text": [
      "255 0 95.98648039641203 58.11174471658565\n"
     ]
    }
   ],
   "source": [
    "img2 = cv2.imread(\"/home/roar/Desktop/ROARLaneDetection/LaneATT/datasets-2 (copy)/tusimple-test/clips/0530/1492626507943650406_0/10.jpg\")\n",
    "print(np.max(img2), np.min(img2), np.mean(img2), np.std(img2))"
   ]
  }
 ],
 "metadata": {
  "interpreter": {
   "hash": "f27d6724044eb938854b13cf9c0cb185c840d1fa35ff8bb40dd740e836d49054"
  },
  "kernelspec": {
   "display_name": "Python 3 (ipykernel)",
   "language": "python",
   "name": "python3"
  },
  "language_info": {
   "codemirror_mode": {
    "name": "ipython",
    "version": 3
   },
   "file_extension": ".py",
   "mimetype": "text/x-python",
   "name": "python",
   "nbconvert_exporter": "python",
   "pygments_lexer": "ipython3",
   "version": "3.8.12"
  }
 },
 "nbformat": 4,
 "nbformat_minor": 2
}
